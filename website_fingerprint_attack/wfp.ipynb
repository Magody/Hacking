{
 "cells": [
  {
   "cell_type": "code",
   "execution_count": 133,
   "metadata": {},
   "outputs": [],
   "source": [
    "import re\n",
    "import numpy as np\n",
    "import pandas as pd\n",
    "from matplotlib import pyplot as plt\n",
    "import math"
   ]
  },
  {
   "cell_type": "code",
   "execution_count": 138,
   "metadata": {},
   "outputs": [
    {
     "name": "stdout",
     "output_type": "stream",
     "text": [
      "477\n"
     ]
    }
   ],
   "source": [
    "header = ['timestamp', 'ip_type', 'source_ip', 'source_port', 'dest_ip', 'dest_port', 'conn_type', 'length']\n",
    "def parse(lines,header):\n",
    "    \n",
    "    pattern1 = r\"(\\d{2}:\\d{2}:\\d{2}\\.\\d+) (IP\\d*) (?:([A-z\\d:\\-]+|\\d+\\.\\d+\\.\\d+\\.\\d+)).([A-z\\d]+) > (?:([A-z\\d:\\-]+|\\d+\\.\\d+\\.\\d+\\.\\d+)).([A-z\\d]+): ([A-z]+), length (\\d+)\"\n",
    "\n",
    "    df = pd.DataFrame(columns=header)\n",
    "    index_df = 0\n",
    "\n",
    "    for line in lines:\n",
    "        if line in [\"\", \"\\n\"]:\n",
    "            continue\n",
    "        line = line.replace(\"\\n\", \"\").strip()\n",
    "        m = re.match(pattern1, line)\n",
    "        if m:\n",
    "            groups = m.groups()\n",
    "            timestamp = groups[0]\n",
    "            ip_type = groups[1]\n",
    "            source_ip = groups[2]\n",
    "            source_port = int(groups[3])\n",
    "            dest_ip = groups[4]\n",
    "            dest_port = int(groups[5])\n",
    "            conn_type = groups[6]\n",
    "            length = int(groups[7])\n",
    "            df.at[index_df, :] = pd.Series(\n",
    "                data={\n",
    "                    \"timestamp\": timestamp,\n",
    "                    \"ip_type\": ip_type,\n",
    "                    \"source_ip\": source_ip,\n",
    "                    \"source_port\": source_port,\n",
    "                    \"dest_ip\": dest_ip,\n",
    "                    \"dest_port\": dest_port,\n",
    "                    \"conn_type\": conn_type,\n",
    "                    \"length\": length\n",
    "                }\n",
    "            )\n",
    "            index_df += 1\n",
    "        else:\n",
    "            print(f\"NOT MATCH |{line}|\")\n",
    "\n",
    "    return df\n",
    "\n",
    "n = 5\n",
    "df_youtube = []\n",
    "df_discord = []\n",
    "\n",
    "packets = math.inf\n",
    "for i in range(n):\n",
    "    with open(f\"data/youtube{i}.txt\", \"r\") as f:\n",
    "        df1 = parse(f.readlines(),header)\n",
    "    with open(f\"data/discord{i}.txt\", \"r\") as f:\n",
    "        df2 = parse(f.readlines(),header)\n",
    "        \n",
    "    packets = min(packets, len(df1), len(df2))\n",
    "    df_youtube.append(df1)\n",
    "    df_discord.append(df2)    \n",
    "    \n",
    "for i in range(5):\n",
    "    df_youtube[i] = df_youtube[i].iloc[:packets, :]\n",
    "    df_discord[i] = df_discord[i].iloc[:packets, :]\n",
    "    \n",
    "print(packets)"
   ]
  },
  {
   "cell_type": "code",
   "execution_count": 170,
   "metadata": {},
   "outputs": [
    {
     "name": "stdout",
     "output_type": "stream",
     "text": [
      "(1280, 6) (1280, 2)\n"
     ]
    }
   ],
   "source": [
    "def get_flow(df, ip1, ip2):\n",
    "    df_flow = pd.DataFrame(columns=[\"source\",\"interval\",\"size\"])\n",
    "    index_flow = 0\n",
    "    \n",
    "    def timestamp_to_time_ms(timestamp):\n",
    "        regex1 = r\"(\\d{2}):(\\d{2}):(\\d{2}).(\\d+)\"\n",
    "        m_regex1 = re.match(regex1, timestamp)\n",
    "        groups = m_regex1.groups()\n",
    "        time_s = int(groups[0]) * 3600 + int(groups[1]) * 60 + int(groups[2])\n",
    "        return time_s * 1000 + (int(groups[3]) / 1000000) * 1000\n",
    "\n",
    "    for i in range(len(df)-1):\n",
    "        timestamp_i = df.loc[i, [\"timestamp\"]][\"timestamp\"]\n",
    "        timestamp_i_1 = df.loc[i+1, [\"timestamp\"]][\"timestamp\"]\n",
    "        \n",
    "        time_ms_i = timestamp_to_time_ms(timestamp_i)\n",
    "        time_ms_i_1 = timestamp_to_time_ms(timestamp_i_1)\n",
    "        interval = time_ms_i_1 - time_ms_i\n",
    "\n",
    "        source = 1 if df.loc[i, [\"source_ip\"]][\"source_ip\"] == ip1 else 2\n",
    "        df_flow.at[index_flow, :] = pd.Series(\n",
    "                data={\n",
    "                    \"source\": source,\n",
    "                    \"interval\": interval,\n",
    "                    \"size\": df.loc[i, [\"length\"]][\"length\"]\n",
    "                }\n",
    "            )\n",
    "        index_flow += 1\n",
    "        \n",
    "    return df_flow\n",
    "\n",
    "def get_channels(df_flow):\n",
    "    ch_1 = df_flow.copy()\n",
    "    ch_1.loc[ch_1[\"source\"] == 2, \"interval\"] = 0\n",
    "    ch_1.loc[ch_1[\"source\"] == 2, \"size\"] = 0\n",
    "    ch_2 = df_flow.copy()\n",
    "    ch_2.loc[ch_2[\"source\"] == 1, \"interval\"] = 0\n",
    "    ch_2.loc[ch_2[\"source\"] == 1, \"size\"] = 0\n",
    "\n",
    "    return ch_1, ch_2\n",
    "\n",
    "\n",
    "def get_features(df_ch_1, df_ch_2):\n",
    "    # 1 -> source is user pc, so is output\n",
    "    # 2 -> source is web, so is input\n",
    "    n_input = len(df_ch_2[df_ch_2[\"size\"] != 0])\n",
    "    n_output = len(df_ch_1[df_ch_1[\"size\"] != 0])\n",
    "    \n",
    "    s_input =  df_ch_2[\"size\"].sum()\n",
    "    s_output =  df_ch_1[\"size\"].sum()\n",
    "    \n",
    "    interval_input = df_ch_2[\"interval\"].mean()\n",
    "    interval_output = df_ch_1[\"interval\"].mean()\n",
    "    \n",
    "    \n",
    "    return [\n",
    "        n_input,\n",
    "        n_output,\n",
    "        s_input,\n",
    "        s_output,\n",
    "        interval_input,\n",
    "        interval_output\n",
    "    ]\n",
    "\n",
    "X_train = []\n",
    "y_train = []\n",
    "\n",
    "\n",
    "for i in range(n):\n",
    "    df_flow_youtube = get_flow(df_youtube[i], \"magody-pc\", \"2800:3f0:4005:409::200e\")\n",
    "    df_flow_discord = get_flow(df_discord[i], \"magody-pc\", \"162.159.135.232\")\n",
    "    df_ch_youtube_1, df_ch_youtube_2 = get_channels(df_flow_youtube)\n",
    "    df_ch_discord_1, df_ch_discord_2 = get_channels(df_flow_discord)\n",
    "    features_youtube = get_features(df_ch_youtube_1, df_ch_youtube_2)\n",
    "    features_discord = get_features(df_ch_discord_1, df_ch_discord_2)\n",
    "    X_train.append(features_youtube)\n",
    "    X_train.append(features_discord)\n",
    "    y_train.append([1,0])\n",
    "    y_train.append([0,1])\n",
    "\n",
    "X_train = np.array(X_train)\n",
    "y_train = np.array(y_train)\n",
    "for i in range(7):\n",
    "    X_train = np.concatenate((X_train, X_train))\n",
    "    y_train = np.concatenate((y_train, y_train))\n",
    "print(X_train.shape, y_train.shape)\n"
   ]
  },
  {
   "cell_type": "code",
   "execution_count": 165,
   "metadata": {},
   "outputs": [
    {
     "data": {
      "image/png": "[encoded data removed]",
      "text/plain": [
       "<Figure size 432x288 with 1 Axes>"
      ]
     },
     "metadata": {
      "needs_background": "light"
     },
     "output_type": "display_data"
    }
   ],
   "source": [
    "x_range = list(range(1,len(df_ch_youtube_1[\"interval\"].values)+1))\n",
    "plt.bar(x_range, df_ch_youtube_1[\"interval\"].values)\n",
    "plt.bar(x_range, df_ch_youtube_2[\"interval\"].values)\n",
    "plt.show()"
   ]
  },
  {
   "cell_type": "code",
   "execution_count": 164,
   "metadata": {},
   "outputs": [
    {
     "data": {
      "image/png": "[encoded data removed]",
      "text/plain": [
       "<Figure size 432x288 with 1 Axes>"
      ]
     },
     "metadata": {
      "needs_background": "light"
     },
     "output_type": "display_data"
    }
   ],
   "source": [
    "x_range = list(range(1,len(df_ch_discord_1[\"interval\"].values)+1))\n",
    "plt.bar(x_range, df_ch_discord_1[\"interval\"].values)\n",
    "plt.bar(x_range, df_ch_discord_2[\"interval\"].values)\n",
    "plt.show()"
   ]
  },
  {
   "cell_type": "markdown",
   "metadata": {},
   "source": [
    "# Model"
   ]
  },
  {
   "cell_type": "code",
   "execution_count": 101,
   "metadata": {},
   "outputs": [
    {
     "name": "stderr",
     "output_type": "stream",
     "text": [
      "2021-12-28 18:26:54.681663: W tensorflow/stream_executor/platform/default/dso_loader.cc:64] Could not load dynamic library 'libcudart.so.11.0'; dlerror: libcudart.so.11.0: cannot open shared object file: No such file or directory\n",
      "2021-12-28 18:26:54.681692: I tensorflow/stream_executor/cuda/cudart_stub.cc:29] Ignore above cudart dlerror if you do not have a GPU set up on your machine.\n",
      "/home/magody/anaconda3/lib/python3.8/site-packages/requests/__init__.py:89: RequestsDependencyWarning: urllib3 (1.26.7) or chardet (3.0.4) doesn't match a supported version!\n",
      "  warnings.warn(\"urllib3 ({}) or chardet ({}) doesn't match a supported \"\n"
     ]
    }
   ],
   "source": [
    "# machine learning\n",
    "from sklearn import linear_model\n",
    "from sklearn import svm\n",
    "from sklearn import ensemble\n",
    "from sklearn import neighbors\n",
    "from sklearn import naive_bayes\n",
    "from sklearn import tree\n",
    "from sklearn import naive_bayes\n",
    "from sklearn import gaussian_process\n",
    "from sklearn import discriminant_analysis\n",
    "from sklearn import model_selection\n",
    "from sklearn import feature_selection\n",
    "from xgboost import XGBClassifier\n",
    "    \n",
    "from tensorflow.keras.layers import Dense, Dropout\n",
    "from tensorflow.keras import Sequential\n",
    "from tensorflow.keras.optimizers import Adam\n",
    "\n",
    "# Hypertunning libraries\n",
    "import keras_tuner as kt\n",
    "from sklearn.model_selection import StratifiedKFold, KFold"
   ]
  },
  {
   "cell_type": "code",
   "execution_count": 176,
   "metadata": {},
   "outputs": [
    {
     "data": {
      "image/png": "[encoded data removed]",
      "text/plain": [
       "<Figure size 432x288 with 1 Axes>"
      ]
     },
     "metadata": {
      "needs_background": "light"
     },
     "output_type": "display_data"
    },
    {
     "data": {
      "image/png": "[encoded data removed]",
      "text/plain": [
       "<Figure size 432x288 with 1 Axes>"
      ]
     },
     "metadata": {
      "needs_background": "light"
     },
     "output_type": "display_data"
    }
   ],
   "source": [
    "# Explorate the neural network\n",
    "from tensorflow.keras.layers import BatchNormalization\n",
    "model = Sequential(\n",
    "    layers=[\n",
    "        Dense(4, kernel_initializer='he_normal', activation=\"relu\"),\n",
    "        BatchNormalization(),\n",
    "        Dense(2, activation=\"softmax\")\n",
    "    ]\n",
    ")\n",
    "adam = Adam(learning_rate=0.0005)\n",
    "\n",
    "model.compile(loss=\"categorical_crossentropy\", optimizer=adam, metrics=['accuracy'])\n",
    "\n",
    "EPOCHS = 40\n",
    "\n",
    "h = model.fit(\n",
    "    X_train, \n",
    "    y_train,\n",
    "    epochs=EPOCHS,\n",
    "    batch_size=16,\n",
    "    validation_split=0.2,\n",
    "    verbose=0\n",
    ")\n",
    "history = h.history\n",
    "plt.plot(history[\"loss\"])\n",
    "plt.plot(history[\"val_loss\"])\n",
    "plt.show()\n",
    "plt.plot(history[\"accuracy\"])\n",
    "plt.plot(history[\"val_accuracy\"])\n",
    "plt.show()"
   ]
  },
  {
   "cell_type": "code",
   "execution_count": 174,
   "metadata": {},
   "outputs": [
    {
     "name": "stdout",
     "output_type": "stream",
     "text": [
      "1.0\n"
     ]
    }
   ],
   "source": [
    "model_knn = neighbors.KNeighborsClassifier(n_neighbors=3)\n",
    "model_knn.fit(X_train, y_train)\n",
    "print(model_knn.score(X_train,y_train))"
   ]
  },
  {
   "cell_type": "code",
   "execution_count": null,
   "metadata": {},
   "outputs": [],
   "source": []
  }
 ],
 "metadata": {
  "interpreter": {
   "hash": "a3c2402a762b1da2b664ca9cbb9344946d41b73132102685c4db1aa6c02b5b44"
  },
  "kernelspec": {
   "display_name": "Python 3.8.5 64-bit ('base': conda)",
   "language": "python",
   "name": "python3"
  },
  "language_info": {
   "codemirror_mode": {
    "name": "ipython",
    "version": 3
   },
   "file_extension": ".py",
   "mimetype": "text/x-python",
   "name": "python",
   "nbconvert_exporter": "python",
   "pygments_lexer": "ipython3",
   "version": "3.8.5"
  },
  "orig_nbformat": 4
 },
 "nbformat": 4,
 "nbformat_minor": 2
}
